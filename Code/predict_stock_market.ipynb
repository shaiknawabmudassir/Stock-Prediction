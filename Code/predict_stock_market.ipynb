{
  "cells": [
    {
      "cell_type": "code",
      "execution_count": 1,
      "metadata": {
        "id": "1_EHvxs8XTME"
      },
      "outputs": [],
      "source": [
        "import pandas as pd\n",
        "import numpy as np\n",
        "import math\n",
        "from sklearn import metrics\n",
        "%matplotlib inline\n",
        "import matplotlib.pyplot as plt\n",
        "from sklearn.model_selection import train_test_split\n",
        "from sklearn.preprocessing import StandardScaler"
      ]
    },
    {
      "cell_type": "code",
      "execution_count": 2,
      "metadata": {
        "id": "Mt90CPOpXTMH"
      },
      "outputs": [],
      "source": [
        "dataset = pd.read_csv('TSLA.csv')"
      ]
    },
    {
      "cell_type": "code",
      "execution_count": 3,
      "metadata": {
        "colab": {
          "base_uri": "https://localhost:8080/",
          "height": 206
        },
        "id": "35JLQMh1XTMJ",
        "outputId": "84e00373-f206-47ca-dd5d-12c1742bcdf8"
      },
      "outputs": [
        {
          "data": {
            "text/html": [
              "<div>\n",
              "<style scoped>\n",
              "    .dataframe tbody tr th:only-of-type {\n",
              "        vertical-align: middle;\n",
              "    }\n",
              "\n",
              "    .dataframe tbody tr th {\n",
              "        vertical-align: top;\n",
              "    }\n",
              "\n",
              "    .dataframe thead th {\n",
              "        text-align: right;\n",
              "    }\n",
              "</style>\n",
              "<table border=\"1\" class=\"dataframe\">\n",
              "  <thead>\n",
              "    <tr style=\"text-align: right;\">\n",
              "      <th></th>\n",
              "      <th>Date</th>\n",
              "      <th>Open</th>\n",
              "      <th>High</th>\n",
              "      <th>Low</th>\n",
              "      <th>Close</th>\n",
              "      <th>Adj Close</th>\n",
              "      <th>Volume</th>\n",
              "    </tr>\n",
              "  </thead>\n",
              "  <tbody>\n",
              "    <tr>\n",
              "      <th>0</th>\n",
              "      <td>29-06-2010</td>\n",
              "      <td>19.000000</td>\n",
              "      <td>25.00</td>\n",
              "      <td>17.540001</td>\n",
              "      <td>23.889999</td>\n",
              "      <td>23.889999</td>\n",
              "      <td>18766300</td>\n",
              "    </tr>\n",
              "    <tr>\n",
              "      <th>1</th>\n",
              "      <td>30-06-2010</td>\n",
              "      <td>25.790001</td>\n",
              "      <td>30.42</td>\n",
              "      <td>23.299999</td>\n",
              "      <td>23.830000</td>\n",
              "      <td>23.830000</td>\n",
              "      <td>17187100</td>\n",
              "    </tr>\n",
              "    <tr>\n",
              "      <th>2</th>\n",
              "      <td>01-07-2010</td>\n",
              "      <td>25.000000</td>\n",
              "      <td>25.92</td>\n",
              "      <td>20.270000</td>\n",
              "      <td>21.959999</td>\n",
              "      <td>21.959999</td>\n",
              "      <td>8218800</td>\n",
              "    </tr>\n",
              "    <tr>\n",
              "      <th>3</th>\n",
              "      <td>02-07-2010</td>\n",
              "      <td>23.000000</td>\n",
              "      <td>23.10</td>\n",
              "      <td>18.709999</td>\n",
              "      <td>19.200001</td>\n",
              "      <td>19.200001</td>\n",
              "      <td>5139800</td>\n",
              "    </tr>\n",
              "    <tr>\n",
              "      <th>4</th>\n",
              "      <td>06-07-2010</td>\n",
              "      <td>20.000000</td>\n",
              "      <td>20.00</td>\n",
              "      <td>15.830000</td>\n",
              "      <td>16.110001</td>\n",
              "      <td>16.110001</td>\n",
              "      <td>6866900</td>\n",
              "    </tr>\n",
              "  </tbody>\n",
              "</table>\n",
              "</div>"
            ],
            "text/plain": [
              "         Date       Open   High        Low      Close  Adj Close    Volume\n",
              "0  29-06-2010  19.000000  25.00  17.540001  23.889999  23.889999  18766300\n",
              "1  30-06-2010  25.790001  30.42  23.299999  23.830000  23.830000  17187100\n",
              "2  01-07-2010  25.000000  25.92  20.270000  21.959999  21.959999   8218800\n",
              "3  02-07-2010  23.000000  23.10  18.709999  19.200001  19.200001   5139800\n",
              "4  06-07-2010  20.000000  20.00  15.830000  16.110001  16.110001   6866900"
            ]
          },
          "execution_count": 3,
          "metadata": {},
          "output_type": "execute_result"
        }
      ],
      "source": [
        "dataset.head()"
      ]
    },
    {
      "cell_type": "code",
      "execution_count": 4,
      "metadata": {
        "colab": {
          "base_uri": "https://localhost:8080/"
        },
        "id": "TjMHAvtgXTMM",
        "outputId": "a74d47a1-2e1b-4d3b-ca5c-4b410fb9adca"
      },
      "outputs": [
        {
          "data": {
            "text/plain": [
              "(2416, 7)"
            ]
          },
          "execution_count": 4,
          "metadata": {},
          "output_type": "execute_result"
        }
      ],
      "source": [
        "dataset.shape"
      ]
    },
    {
      "cell_type": "code",
      "execution_count": 5,
      "metadata": {
        "id": "62RkLxKeXTMN"
      },
      "outputs": [],
      "source": [
        "dataset.drop('Adj Close',axis = 1, inplace = True)\n",
        "dataset.drop('Date',axis = 1, inplace = True)\n"
      ]
    },
    {
      "cell_type": "code",
      "execution_count": 6,
      "metadata": {
        "colab": {
          "base_uri": "https://localhost:8080/",
          "height": 206
        },
        "id": "BuePFG4_XTMO",
        "outputId": "34442473-b9b0-421e-a933-d87cf2d0aef7"
      },
      "outputs": [
        {
          "data": {
            "text/html": [
              "<div>\n",
              "<style scoped>\n",
              "    .dataframe tbody tr th:only-of-type {\n",
              "        vertical-align: middle;\n",
              "    }\n",
              "\n",
              "    .dataframe tbody tr th {\n",
              "        vertical-align: top;\n",
              "    }\n",
              "\n",
              "    .dataframe thead th {\n",
              "        text-align: right;\n",
              "    }\n",
              "</style>\n",
              "<table border=\"1\" class=\"dataframe\">\n",
              "  <thead>\n",
              "    <tr style=\"text-align: right;\">\n",
              "      <th></th>\n",
              "      <th>Open</th>\n",
              "      <th>High</th>\n",
              "      <th>Low</th>\n",
              "      <th>Close</th>\n",
              "      <th>Volume</th>\n",
              "    </tr>\n",
              "  </thead>\n",
              "  <tbody>\n",
              "    <tr>\n",
              "      <th>0</th>\n",
              "      <td>19.000000</td>\n",
              "      <td>25.00</td>\n",
              "      <td>17.540001</td>\n",
              "      <td>23.889999</td>\n",
              "      <td>18766300</td>\n",
              "    </tr>\n",
              "    <tr>\n",
              "      <th>1</th>\n",
              "      <td>25.790001</td>\n",
              "      <td>30.42</td>\n",
              "      <td>23.299999</td>\n",
              "      <td>23.830000</td>\n",
              "      <td>17187100</td>\n",
              "    </tr>\n",
              "    <tr>\n",
              "      <th>2</th>\n",
              "      <td>25.000000</td>\n",
              "      <td>25.92</td>\n",
              "      <td>20.270000</td>\n",
              "      <td>21.959999</td>\n",
              "      <td>8218800</td>\n",
              "    </tr>\n",
              "    <tr>\n",
              "      <th>3</th>\n",
              "      <td>23.000000</td>\n",
              "      <td>23.10</td>\n",
              "      <td>18.709999</td>\n",
              "      <td>19.200001</td>\n",
              "      <td>5139800</td>\n",
              "    </tr>\n",
              "    <tr>\n",
              "      <th>4</th>\n",
              "      <td>20.000000</td>\n",
              "      <td>20.00</td>\n",
              "      <td>15.830000</td>\n",
              "      <td>16.110001</td>\n",
              "      <td>6866900</td>\n",
              "    </tr>\n",
              "  </tbody>\n",
              "</table>\n",
              "</div>"
            ],
            "text/plain": [
              "        Open   High        Low      Close    Volume\n",
              "0  19.000000  25.00  17.540001  23.889999  18766300\n",
              "1  25.790001  30.42  23.299999  23.830000  17187100\n",
              "2  25.000000  25.92  20.270000  21.959999   8218800\n",
              "3  23.000000  23.10  18.709999  19.200001   5139800\n",
              "4  20.000000  20.00  15.830000  16.110001   6866900"
            ]
          },
          "execution_count": 6,
          "metadata": {},
          "output_type": "execute_result"
        }
      ],
      "source": [
        "dataset.head()"
      ]
    },
    {
      "cell_type": "code",
      "execution_count": 7,
      "metadata": {
        "colab": {
          "base_uri": "https://localhost:8080/"
        },
        "id": "b900jV2OXTMQ",
        "outputId": "f17737c2-24c0-46b9-cc24-0b0b1984335b"
      },
      "outputs": [
        {
          "data": {
            "text/plain": [
              "Open      0\n",
              "High      0\n",
              "Low       0\n",
              "Close     0\n",
              "Volume    0\n",
              "dtype: int64"
            ]
          },
          "execution_count": 7,
          "metadata": {},
          "output_type": "execute_result"
        }
      ],
      "source": [
        "dataset.isnull().sum()"
      ]
    },
    {
      "cell_type": "code",
      "execution_count": 8,
      "metadata": {
        "colab": {
          "base_uri": "https://localhost:8080/"
        },
        "id": "xGer6G3jXTMR",
        "outputId": "bbe4a1a0-8259-4d8b-916b-ef9b7df242e3"
      },
      "outputs": [
        {
          "data": {
            "text/plain": [
              "Open      False\n",
              "High      False\n",
              "Low       False\n",
              "Close     False\n",
              "Volume    False\n",
              "dtype: bool"
            ]
          },
          "execution_count": 8,
          "metadata": {},
          "output_type": "execute_result"
        }
      ],
      "source": [
        "dataset.isna().any()"
      ]
    },
    {
      "cell_type": "code",
      "execution_count": 9,
      "metadata": {
        "colab": {
          "base_uri": "https://localhost:8080/"
        },
        "id": "50-z5qGDXTMS",
        "outputId": "c182051c-3d02-4215-db36-c05ffc9a441c"
      },
      "outputs": [
        {
          "name": "stdout",
          "output_type": "stream",
          "text": [
            "<class 'pandas.core.frame.DataFrame'>\n",
            "RangeIndex: 2416 entries, 0 to 2415\n",
            "Data columns (total 5 columns):\n",
            " #   Column  Non-Null Count  Dtype  \n",
            "---  ------  --------------  -----  \n",
            " 0   Open    2416 non-null   float64\n",
            " 1   High    2416 non-null   float64\n",
            " 2   Low     2416 non-null   float64\n",
            " 3   Close   2416 non-null   float64\n",
            " 4   Volume  2416 non-null   int64  \n",
            "dtypes: float64(4), int64(1)\n",
            "memory usage: 94.5 KB\n"
          ]
        }
      ],
      "source": [
        "dataset.info()"
      ]
    },
    {
      "cell_type": "code",
      "execution_count": 10,
      "metadata": {
        "colab": {
          "base_uri": "https://localhost:8080/",
          "height": 300
        },
        "id": "6GN6ZZaKXTMT",
        "outputId": "264e2188-87b0-4f16-be26-d1ada983ab84"
      },
      "outputs": [
        {
          "data": {
            "text/html": [
              "<div>\n",
              "<style scoped>\n",
              "    .dataframe tbody tr th:only-of-type {\n",
              "        vertical-align: middle;\n",
              "    }\n",
              "\n",
              "    .dataframe tbody tr th {\n",
              "        vertical-align: top;\n",
              "    }\n",
              "\n",
              "    .dataframe thead th {\n",
              "        text-align: right;\n",
              "    }\n",
              "</style>\n",
              "<table border=\"1\" class=\"dataframe\">\n",
              "  <thead>\n",
              "    <tr style=\"text-align: right;\">\n",
              "      <th></th>\n",
              "      <th>Open</th>\n",
              "      <th>High</th>\n",
              "      <th>Low</th>\n",
              "      <th>Close</th>\n",
              "      <th>Volume</th>\n",
              "    </tr>\n",
              "  </thead>\n",
              "  <tbody>\n",
              "    <tr>\n",
              "      <th>count</th>\n",
              "      <td>2416.000000</td>\n",
              "      <td>2416.000000</td>\n",
              "      <td>2416.000000</td>\n",
              "      <td>2416.000000</td>\n",
              "      <td>2.416000e+03</td>\n",
              "    </tr>\n",
              "    <tr>\n",
              "      <th>mean</th>\n",
              "      <td>186.271147</td>\n",
              "      <td>189.578224</td>\n",
              "      <td>182.916639</td>\n",
              "      <td>186.403651</td>\n",
              "      <td>5.572722e+06</td>\n",
              "    </tr>\n",
              "    <tr>\n",
              "      <th>std</th>\n",
              "      <td>118.740163</td>\n",
              "      <td>120.892329</td>\n",
              "      <td>116.857591</td>\n",
              "      <td>119.136020</td>\n",
              "      <td>4.987809e+06</td>\n",
              "    </tr>\n",
              "    <tr>\n",
              "      <th>min</th>\n",
              "      <td>16.139999</td>\n",
              "      <td>16.629999</td>\n",
              "      <td>14.980000</td>\n",
              "      <td>15.800000</td>\n",
              "      <td>1.185000e+05</td>\n",
              "    </tr>\n",
              "    <tr>\n",
              "      <th>25%</th>\n",
              "      <td>34.342498</td>\n",
              "      <td>34.897501</td>\n",
              "      <td>33.587501</td>\n",
              "      <td>34.400002</td>\n",
              "      <td>1.899275e+06</td>\n",
              "    </tr>\n",
              "    <tr>\n",
              "      <th>50%</th>\n",
              "      <td>213.035004</td>\n",
              "      <td>216.745002</td>\n",
              "      <td>208.870002</td>\n",
              "      <td>212.960007</td>\n",
              "      <td>4.578400e+06</td>\n",
              "    </tr>\n",
              "    <tr>\n",
              "      <th>75%</th>\n",
              "      <td>266.450012</td>\n",
              "      <td>270.927513</td>\n",
              "      <td>262.102501</td>\n",
              "      <td>266.774994</td>\n",
              "      <td>7.361150e+06</td>\n",
              "    </tr>\n",
              "    <tr>\n",
              "      <th>max</th>\n",
              "      <td>673.690002</td>\n",
              "      <td>786.140015</td>\n",
              "      <td>673.520020</td>\n",
              "      <td>780.000000</td>\n",
              "      <td>4.706500e+07</td>\n",
              "    </tr>\n",
              "  </tbody>\n",
              "</table>\n",
              "</div>"
            ],
            "text/plain": [
              "              Open         High          Low        Close        Volume\n",
              "count  2416.000000  2416.000000  2416.000000  2416.000000  2.416000e+03\n",
              "mean    186.271147   189.578224   182.916639   186.403651  5.572722e+06\n",
              "std     118.740163   120.892329   116.857591   119.136020  4.987809e+06\n",
              "min      16.139999    16.629999    14.980000    15.800000  1.185000e+05\n",
              "25%      34.342498    34.897501    33.587501    34.400002  1.899275e+06\n",
              "50%     213.035004   216.745002   208.870002   212.960007  4.578400e+06\n",
              "75%     266.450012   270.927513   262.102501   266.774994  7.361150e+06\n",
              "max     673.690002   786.140015   673.520020   780.000000  4.706500e+07"
            ]
          },
          "execution_count": 10,
          "metadata": {},
          "output_type": "execute_result"
        }
      ],
      "source": [
        "dataset.describe()"
      ]
    },
    {
      "cell_type": "code",
      "execution_count": 11,
      "metadata": {
        "colab": {
          "base_uri": "https://localhost:8080/",
          "height": 392
        },
        "id": "5ry6zAc0XTMV",
        "outputId": "f5dc2bec-23e7-49bd-f0e5-67970c83e2be"
      },
      "outputs": [
        {
          "data": {
            "text/plain": [
              "<AxesSubplot:>"
            ]
          },
          "execution_count": 11,
          "metadata": {},
          "output_type": "execute_result"
        },
        {
          "data": {
            "image/png": "[encoded data removed]",
            "text/plain": [
              "<Figure size 1152x432 with 1 Axes>"
            ]
          },
          "metadata": {
            "needs_background": "light"
          },
          "output_type": "display_data"
        }
      ],
      "source": [
        "dataset['Open'].plot(figsize=(16,6))"
      ]
    },
    {
      "cell_type": "code",
      "execution_count": 12,
      "metadata": {
        "id": "fcB0fuTAXTMW"
      },
      "outputs": [],
      "source": [
        "X = dataset.iloc[:, :-1].values\n",
        "Y = dataset.iloc[:, 1].values\n",
        "sc =  StandardScaler()\n",
        "X1 = sc.fit_transform(X)\n",
        "X_train, X_test, Y_train, Y_test = train_test_split( X1, Y, test_size = 0.2, random_state = 0 )"
      ]
    },
    {
      "cell_type": "code",
      "execution_count": 13,
      "metadata": {},
      "outputs": [
        {
          "name": "stdout",
          "output_type": "stream",
          "text": [
            "[[ 19.        25.        17.540001  23.889999]\n",
            " [ 25.790001  30.42      23.299999  23.83    ]\n",
            " [ 25.        25.92      20.27      21.959999]\n",
            " ...\n",
            " [632.419983 650.880005 618.       640.809998]\n",
            " [640.       653.       632.52002  650.570007]\n",
            " [673.690002 786.140015 673.52002  780.      ]]\n"
          ]
        }
      ],
      "source": [
        "\n",
        "from sklearn.linear_model import LinearRegression\n",
        "X_Train , X_Test , y_Train , y_Test = train_test_split(X ,Y , random_state = 0)\n",
        "print(X)\n",
        "regressor = LinearRegression()\n",
        "regressor.fit(X_Train,y_Train)\n",
        "custom_data_prediction=regressor.predict(X_Test)"
      ]
    },
    {
      "cell_type": "markdown",
      "metadata": {},
      "source": [
        "# Linear Regression"
      ]
    },
    {
      "cell_type": "code",
      "execution_count": 14,
      "metadata": {},
      "outputs": [],
      "source": [
        "class Linear_Regression():\n",
        "  def __init__(self, learning_rate, no_of_iterations):\n",
        "    self.learning_rate = learning_rate\n",
        "    self.no_of_iterations = no_of_iterations\n",
        "\n",
        "  def fit(self, X, Y ):\n",
        "    self.m, self.n = X.shape \n",
        "    self.w = np.zeros(self.n)\n",
        "    self.b = 0\n",
        "    self.X = X\n",
        "    self.Y = Y\n",
        "    \n",
        "    for i in range(self.no_of_iterations):\n",
        "      self.update_weights()\n",
        "\n",
        "  def update_weights(self):\n",
        "    Y_prediction = self.predict(self.X)\n",
        "    dw = - (2 * (self.X.T).dot(self.Y - Y_prediction)) / self.m\n",
        "    db = - 2 * np.sum(self.Y - Y_prediction)/self.m  \n",
        "    self.w = self.w - self.learning_rate*dw\n",
        "    self.b = self.b - self.learning_rate*db\n",
        "  \n",
        "  def predict(self, X):\n",
        "    return X.dot(self.w) + self.b"
      ]
    },
    {
      "cell_type": "code",
      "execution_count": 15,
      "metadata": {},
      "outputs": [
        {
          "name": "stdout",
          "output_type": "stream",
          "text": [
            "         Actual   Predicted\n",
            "0    214.020004  212.283167\n",
            "1     28.580000   28.767654\n",
            "2     24.879999   24.943301\n",
            "3    348.619995  336.121338\n",
            "4    200.899994  203.164383\n",
            "..          ...         ...\n",
            "479  192.699997  192.894362\n",
            "480  363.299988  363.120997\n",
            "481   27.490000   27.573598\n",
            "482  186.580002  188.408598\n",
            "483   32.200001   32.397084\n",
            "\n",
            "[484 rows x 2 columns]\n",
            "Mean Absolute Error: 1.2604825865214917\n",
            "Mean Squared  Error: 4.401987987715675\n",
            "Root Mean Squared Error: 2.0980915108058737\n"
          ]
        },
        {
          "data": {
            "text/plain": [
              "<AxesSubplot:>"
            ]
          },
          "execution_count": 15,
          "metadata": {},
          "output_type": "execute_result"
        },
        {
          "data": {
            "image/png": "[encoded data removed]",
            "text/plain": [
              "<Figure size 432x288 with 1 Axes>"
            ]
          },
          "metadata": {
            "needs_background": "light"
          },
          "output_type": "display_data"
        }
      ],
      "source": [
        "Linear_model = Linear_Regression(learning_rate = 0.01, no_of_iterations = 1000)\n",
        "Linear_model.fit( X_train, Y_train )\n",
        "Linear_Y_pred = Linear_model.predict( X_test )\n",
        "Linear_df=pd.DataFrame({'Actual':Y_test,'Predicted':Linear_Y_pred})\n",
        "print(Linear_df)\n",
        "print('Mean Absolute Error:',metrics.mean_absolute_error(Y_test,Linear_Y_pred))\n",
        "print('Mean Squared  Error:',metrics.mean_squared_error(Y_test,Linear_Y_pred))\n",
        "print('Root Mean Squared Error:',math.sqrt(metrics.mean_squared_error(Y_test,Linear_Y_pred)))\n",
        "graph=Linear_df.head(20)\n",
        "graph.plot(kind='bar')"
      ]
    },
    {
      "cell_type": "markdown",
      "metadata": {},
      "source": [
        "# Lasso Regression"
      ]
    },
    {
      "cell_type": "code",
      "execution_count": 16,
      "metadata": {},
      "outputs": [],
      "source": [
        "class LassoRegression() :\n",
        "    def __init__( self, learning_rate, iterations, l1_penality ) :\n",
        "        self.learning_rate = learning_rate\n",
        "        self.iterations = iterations\n",
        "        self.l1_penality = l1_penality\n",
        "    def fit( self, X, Y ) :\n",
        "        self.m, self.n = X.shape\n",
        "        self.W = np.zeros( self.n )\n",
        "        self.b = 0\n",
        "        self.X = X\n",
        "        self.Y = Y\n",
        "        for i in range( self.iterations ) :\n",
        "            self.update_weights()\n",
        "        return self\n",
        "    def update_weights( self ) :\n",
        "        Y_pred = self.predict( self.X )  \n",
        "        dW = np.zeros( self.n )\n",
        "        for j in range( self.n ) :\n",
        "            if self.W[j] > 0 :\n",
        "                dW[j] = ( - ( 2 * ( self.X[:, j] ).dot( self.Y - Y_pred ) ) + self.l1_penality ) / self.m\n",
        "\n",
        "            else :\n",
        "                dW[j] = ( - ( 2 * ( self.X[:, j] ).dot( self.Y - Y_pred ) ) - self.l1_penality ) / self.m\n",
        "\n",
        "        db = - 2 * np.sum( self.Y - Y_pred ) / self.m \n",
        "        self.W = self.W - self.learning_rate * dW\n",
        "        self.b = self.b - self.learning_rate * db\n",
        "        return self\n",
        "# Hypothetical function  h( x ) \n",
        "    def predict( self, X ) :\n",
        "        return X.dot( self.W ) + self.b"
      ]
    },
    {
      "cell_type": "code",
      "execution_count": 17,
      "metadata": {},
      "outputs": [
        {
          "name": "stdout",
          "output_type": "stream",
          "text": [
            "         Actual   Predicted\n",
            "0    214.020004  212.346722\n",
            "1     28.580000   28.789360\n",
            "2     24.879999   24.969353\n",
            "3    348.619995  336.801723\n",
            "4    200.899994  202.979873\n",
            "..          ...         ...\n",
            "479  192.699997  192.784202\n",
            "480  363.299988  362.891586\n",
            "481   27.490000   27.623724\n",
            "482  186.580002  188.267238\n",
            "483   32.200001   32.425411\n",
            "\n",
            "[484 rows x 2 columns]\n",
            "Mean Absolute Error: 1.138661977069429\n",
            "Mean Squared  Error: 3.5576012910836377\n",
            "Root Mean Squared Error: 1.8861604627082071\n"
          ]
        },
        {
          "data": {
            "text/plain": [
              "<AxesSubplot:>"
            ]
          },
          "execution_count": 17,
          "metadata": {},
          "output_type": "execute_result"
        },
        {
          "data": {
            "image/png": "[encoded data removed]",
            "text/plain": [
              "<Figure size 432x288 with 1 Axes>"
            ]
          },
          "metadata": {
            "needs_background": "light"
          },
          "output_type": "display_data"
        }
      ],
      "source": [
        "Lasso_model = LassoRegression( iterations = 1000, learning_rate = 0.1, l1_penality = 100)\n",
        "Lasso_model.fit( X_train, Y_train )\n",
        "Lasso_Y_pred = Lasso_model.predict( X_test )\n",
        "\n",
        "Lasso_df=pd.DataFrame({'Actual':Y_test,'Predicted':Lasso_Y_pred})\n",
        "print(Lasso_df)\n",
        "print('Mean Absolute Error:',metrics.mean_absolute_error(Y_test,Lasso_Y_pred))\n",
        "print('Mean Squared  Error:',metrics.mean_squared_error(Y_test,Lasso_Y_pred))\n",
        "print('Root Mean Squared Error:',math.sqrt(metrics.mean_squared_error(Y_test,Lasso_Y_pred)))\n",
        "graph=Lasso_df.head(20)\n",
        "graph.plot(kind='bar')"
      ]
    },
    {
      "cell_type": "code",
      "execution_count": 18,
      "metadata": {},
      "outputs": [],
      "source": [
        "class RidgeRegression() :\n",
        "    def __init__( self, learning_rate, iterations, l2_penality ) :\n",
        "        self.learning_rate = learning_rate        \n",
        "        self.iterations = iterations        \n",
        "        self.l2_penality = l2_penality\n",
        "                \n",
        "    def fit( self, X, Y ) :      \n",
        "        self.m, self.n = X.shape      \n",
        "        self.W = np.zeros( self.n )\n",
        "        self.b = 0        \n",
        "        self.X = X        \n",
        "        self.Y = Y\n",
        "        for i in range( self.iterations ) :            \n",
        "            self.update_weights()            \n",
        "        return self\n",
        "\n",
        "    def update_weights( self ) :           \n",
        "        Y_pred = self.predict( self.X )     \n",
        "        dW = ( - ( 2 * ( self.X.T ).dot( self.Y - Y_pred ) ) + ( 2 * self.l2_penality * self.W ) ) / self.m     \n",
        "        db = - 2 * np.sum( self.Y - Y_pred ) / self.m     \n",
        "        self.W = self.W - self.learning_rate * dW    \n",
        "        self.b = self.b - self.learning_rate * db        \n",
        "        return self\n",
        "\n",
        "    def predict( self, X ) :    \n",
        "        return X.dot( self.W ) + self.b"
      ]
    },
    {
      "cell_type": "code",
      "execution_count": 19,
      "metadata": {},
      "outputs": [
        {
          "name": "stdout",
          "output_type": "stream",
          "text": [
            "         Actual   Predicted\n",
            "0    214.020004  212.000398\n",
            "1     28.580000   30.825819\n",
            "2     24.879999   27.050105\n",
            "3    348.619995  334.235915\n",
            "4    200.899994  203.008032\n",
            "..          ...         ...\n",
            "479  192.699997  192.866195\n",
            "480  363.299988  360.928445\n",
            "481   27.490000   29.645737\n",
            "482  186.580002  188.438507\n",
            "483   32.200001   34.408693\n",
            "\n",
            "[484 rows x 2 columns]\n",
            "Mean Absolute Error: 1.8194856269015536\n",
            "Mean Squared  Error: 6.828898858846586\n",
            "Root Mean Squared Error: 2.6132161906062397\n"
          ]
        },
        {
          "data": {
            "text/plain": [
              "<AxesSubplot:>"
            ]
          },
          "execution_count": 19,
          "metadata": {},
          "output_type": "execute_result"
        },
        {
          "data": {
            "image/png": "[encoded data removed]",
            "text/plain": [
              "<Figure size 432x288 with 1 Axes>"
            ]
          },
          "metadata": {
            "needs_background": "light"
          },
          "output_type": "display_data"
        }
      ],
      "source": [
        "Ridge_model = RidgeRegression( iterations = 1000, learning_rate = 0.01, l2_penality = 100)\n",
        "Ridge_model.fit( X_train, Y_train )\n",
        "Ridge = Ridge_model.predict( X_test )\n",
        "\n",
        "Lasso_df=pd.DataFrame({'Actual':Y_test,'Predicted':Ridge})\n",
        "print(Lasso_df)\n",
        "print('Mean Absolute Error:',metrics.mean_absolute_error(Y_test,Ridge))\n",
        "print('Mean Squared  Error:',metrics.mean_squared_error(Y_test,Ridge))\n",
        "print('Root Mean Squared Error:',math.sqrt(metrics.mean_squared_error(Y_test,Ridge)))\n",
        "graph=Lasso_df.head(20)\n",
        "graph.plot(kind='bar')"
      ]
    },
    {
      "cell_type": "markdown",
      "metadata": {},
      "source": [
        "# Real Time Closing Price Prediction of stock"
      ]
    },
    {
      "cell_type": "code",
      "execution_count": 20,
      "metadata": {},
      "outputs": [
        {
          "ename": "ValueError",
          "evalue": "could not convert string to float: ''",
          "output_type": "error",
          "traceback": [
            "\u001b[1;31m---------------------------------------------------------------------------\u001b[0m",
            "\u001b[1;31mValueError\u001b[0m                                Traceback (most recent call last)",
            "\u001b[1;32mc:\\Users\\shaik\\OneDrive\\Pictures\\Desktop\\MIS4\\Project\\predict_stock_market.ipynb Cell 23'\u001b[0m in \u001b[0;36m<module>\u001b[1;34m\u001b[0m\n\u001b[1;32m----> <a href='vscode-notebook-cell:/c%3A/Users/shaik/OneDrive/Pictures/Desktop/MIS4/Project/predict_stock_market.ipynb#ch0000022?line=0'>1</a>\u001b[0m \u001b[39mopen\u001b[39m \u001b[39m=\u001b[39m \u001b[39mfloat\u001b[39;49m(\u001b[39minput\u001b[39;49m(\u001b[39m\"\u001b[39;49m\u001b[39mEnter the opening price of stock: \u001b[39;49m\u001b[39m\"\u001b[39;49m))\n\u001b[0;32m      <a href='vscode-notebook-cell:/c%3A/Users/shaik/OneDrive/Pictures/Desktop/MIS4/Project/predict_stock_market.ipynb#ch0000022?line=1'>2</a>\u001b[0m low \u001b[39m=\u001b[39m \u001b[39mfloat\u001b[39m(\u001b[39minput\u001b[39m(\u001b[39m\"\u001b[39m\u001b[39mEnter the lowest price of stock: \u001b[39m\u001b[39m\"\u001b[39m))\n\u001b[0;32m      <a href='vscode-notebook-cell:/c%3A/Users/shaik/OneDrive/Pictures/Desktop/MIS4/Project/predict_stock_market.ipynb#ch0000022?line=2'>3</a>\u001b[0m high \u001b[39m=\u001b[39m \u001b[39mfloat\u001b[39m(\u001b[39minput\u001b[39m(\u001b[39m\"\u001b[39m\u001b[39mEnter the highest price of stock: \u001b[39m\u001b[39m\"\u001b[39m))\n",
            "\u001b[1;31mValueError\u001b[0m: could not convert string to float: ''"
          ]
        }
      ],
      "source": [
        "open = float(input(\"Enter the opening price of stock: \"))\n",
        "low = float(input(\"Enter the lowest price of stock: \"))\n",
        "high = float(input(\"Enter the highest price of stock: \"))\n",
        "volume = float(input(\"Enter the volume of stock: \"))\n",
        "\n",
        "custom_data=np.array([[open,low,high,volume]])\n",
        "custom_data_prediction=regressor.predict(custom_data)\n",
        "print(\"The stock will close at\\n \",custom_data_prediction,\"dollars\")"
      ]
    }
  ],
  "metadata": {
    "colab": {
      "collapsed_sections": [],
      "name": "predict_stock_market.ipynb",
      "provenance": []
    },
    "interpreter": {
      "hash": "d0227f3bc9acf1572fe986539cd0dd26f4075a0aabf76fb330a7078e31855c3e"
    },
    "kernelspec": {
      "display_name": "Python 3.10.2 64-bit",
      "language": "python",
      "name": "python3"
    },
    "language_info": {
      "codemirror_mode": {
        "name": "ipython",
        "version": 3
      },
      "file_extension": ".py",
      "mimetype": "text/x-python",
      "name": "python",
      "nbconvert_exporter": "python",
      "pygments_lexer": "ipython3",
      "version": "3.10.2"
    }
  },
  "nbformat": 4,
  "nbformat_minor": 0
}
